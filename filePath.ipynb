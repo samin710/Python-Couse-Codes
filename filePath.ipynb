{
 "cells": [
  {
   "cell_type": "code",
   "execution_count": 1,
   "metadata": {},
   "outputs": [
    {
     "name": "stdout",
     "output_type": "stream",
     "text": [
      "New directory 'package 'createdz\n"
     ]
    }
   ],
   "source": [
    "# Create new directory\n",
    "import os\n",
    "\n",
    "new_dir = \"package\"\n",
    "os.mkdir(new_dir)\n",
    "print(f\"New directory '{new_dir} 'createdz\")"
   ]
  },
  {
   "cell_type": "code",
   "execution_count": 10,
   "metadata": {},
   "outputs": [
    {
     "name": "stdout",
     "output_type": "stream",
     "text": [
      "['destination.txt', 'example.bin', 'example.txt', 'fileOperation.ipynb', 'filePath.ipynb', 'package']\n"
     ]
    }
   ],
   "source": [
    "# List files and directory\n",
    "\n",
    "items = os.listdir('.')\n",
    "print(items)"
   ]
  },
  {
   "cell_type": "code",
   "execution_count": 11,
   "metadata": {},
   "outputs": [
    {
     "name": "stdout",
     "output_type": "stream",
     "text": [
      "folder\\example.txt\n"
     ]
    }
   ],
   "source": [
    "# Joining path\n",
    "\n",
    "dir_name = \"folder\"\n",
    "file_name = \"example.txt\"\n",
    "\n",
    "full_path = os.path.join(dir_name, file_name)\n",
    "print(full_path)"
   ]
  },
  {
   "cell_type": "code",
   "execution_count": 12,
   "metadata": {},
   "outputs": [
    {
     "name": "stdout",
     "output_type": "stream",
     "text": [
      "e:\\Python NLP Code\\test\\9(fileOperations)\\folder\\example.txt\n"
     ]
    }
   ],
   "source": [
    "dir_name = \"folder\"\n",
    "file_name = \"example.txt\"\n",
    "\n",
    "full_path = os.path.join(os.getcwd(), dir_name, file_name)\n",
    "print(full_path)"
   ]
  },
  {
   "cell_type": "code",
   "execution_count": 15,
   "metadata": {},
   "outputs": [
    {
     "name": "stdout",
     "output_type": "stream",
     "text": [
      "The path 'example1.txt' doesn't exist'\n"
     ]
    }
   ],
   "source": [
    "path = \"example1.txt\"\n",
    "\n",
    "if os.path.exists(path):\n",
    "    print(f\"The path '{path}' exist\")\n",
    "else :\n",
    "    print(f\"The path '{path}' doesn't exist'\")"
   ]
  },
  {
   "cell_type": "code",
   "execution_count": 19,
   "metadata": {},
   "outputs": [
    {
     "name": "stdout",
     "output_type": "stream",
     "text": [
      "It is a file\n"
     ]
    }
   ],
   "source": [
    "# Check a path is file or directory\n",
    "\n",
    "path = \"example.txt\"\n",
    "\n",
    "if os.path.isfile(path):\n",
    "    print(\"It is a file\")\n",
    "elif os.path.isdir(path):\n",
    "    print(\"It is a directory\")\n",
    "else :\n",
    "    print(\"It is neither a file nor a directory\")\n"
   ]
  },
  {
   "cell_type": "code",
   "execution_count": 20,
   "metadata": {},
   "outputs": [
    {
     "name": "stdout",
     "output_type": "stream",
     "text": [
      "e:\\Python NLP Code\\test\\9(fileOperations)\\example.txt\n"
     ]
    }
   ],
   "source": [
    "# Getting absolute path\n",
    "\n",
    "relative_path = \"example.txt\"\n",
    "absolute_path = os.path.abspath(relative_path)\n",
    "print(absolute_path)"
   ]
  }
 ],
 "metadata": {
  "kernelspec": {
   "display_name": "Python 3",
   "language": "python",
   "name": "python3"
  },
  "language_info": {
   "codemirror_mode": {
    "name": "ipython",
    "version": 3
   },
   "file_extension": ".py",
   "mimetype": "text/x-python",
   "name": "python",
   "nbconvert_exporter": "python",
   "pygments_lexer": "ipython3",
   "version": "3.12.0"
  }
 },
 "nbformat": 4,
 "nbformat_minor": 2
}
