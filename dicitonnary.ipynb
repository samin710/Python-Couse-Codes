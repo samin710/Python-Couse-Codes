{
 "cells": [
  {
   "cell_type": "code",
   "execution_count": 34,
   "metadata": {},
   "outputs": [
    {
     "data": {
      "text/plain": [
       "{'name': 'samin', 'age': 10, 'id': 112}"
      ]
     },
     "execution_count": 34,
     "metadata": {},
     "output_type": "execute_result"
    }
   ],
   "source": [
    "student = {\"name\":\"samin\", \"age\":10, \"id\":112}\n",
    "student"
   ]
  },
  {
   "cell_type": "code",
   "execution_count": 17,
   "metadata": {},
   "outputs": [
    {
     "data": {
      "text/plain": [
       "{'name': 'samin', 'age': 10, 'id': 12}"
      ]
     },
     "execution_count": 17,
     "metadata": {},
     "output_type": "execute_result"
    }
   ],
   "source": [
    "student = {\"name\":\"samin\", \"age\":10, \"id\":112, \"id\":12}\n",
    "student"
   ]
  },
  {
   "cell_type": "code",
   "execution_count": 30,
   "metadata": {},
   "outputs": [
    {
     "name": "stdout",
     "output_type": "stream",
     "text": [
      "112\n",
      "samin\n",
      " \n",
      "112\n",
      "None\n",
      "Not available\n"
     ]
    }
   ],
   "source": [
    "print(student[\"id\"])\n",
    "print(student[\"name\"])\n",
    "# print(student[\"last_name\"]) aita error dibe\n",
    "print(\" \")\n",
    "\n",
    "print(student.get(\"id\"))\n",
    "print(student.get(\"last_name\"))\n",
    "print(student.get(\"last_name\", \"Not available\"))"
   ]
  },
  {
   "cell_type": "code",
   "execution_count": null,
   "metadata": {},
   "outputs": [
    {
     "name": "stdout",
     "output_type": "stream",
     "text": [
      "{'name': 'samin', 'age': 10, 'id': 112}\n"
     ]
    },
    {
     "data": {
      "text/plain": [
       "{'name': 'S M Samin', 'age': 10, 'grade': 'A'}"
      ]
     },
     "execution_count": 35,
     "metadata": {},
     "output_type": "execute_result"
    }
   ],
   "source": [
    "print(student)\n",
    "\n",
    "student[\"name\"] = \"S M Samin\" #update\n",
    "student[\"grade\"] = \"A\" #add new key and value\n",
    "del student[\"id\"] # delete a key and value\n",
    "\n",
    "student"
   ]
  },
  {
   "cell_type": "code",
   "execution_count": 36,
   "metadata": {},
   "outputs": [
    {
     "name": "stdout",
     "output_type": "stream",
     "text": [
      "dict_keys(['name', 'age', 'grade'])\n",
      "dict_values(['S M Samin', 10, 'A'])\n",
      "dict_items([('name', 'S M Samin'), ('age', 10), ('grade', 'A')])\n"
     ]
    }
   ],
   "source": [
    "keys = student.keys() # get all the keys\n",
    "print(keys)\n",
    "\n",
    "values = student.values() # get all the values\n",
    "print(values)\n",
    "\n",
    "pair = student.items() # get all the keys and values as pair or tuple\n",
    "print(pair)"
   ]
  },
  {
   "cell_type": "code",
   "execution_count": 37,
   "metadata": {},
   "outputs": [
    {
     "name": "stdout",
     "output_type": "stream",
     "text": [
      "{'name': 'S M Samin', 'age': 10, 'grade': 'A'}\n",
      "{'name': 'S M Samin', 'age': 10, 'grade': 'A'}\n"
     ]
    }
   ],
   "source": [
    "#Shallow copy\n",
    "\n",
    "student_copy = student\n",
    "print(student)\n",
    "print(student_copy)"
   ]
  },
  {
   "cell_type": "code",
   "execution_count": 38,
   "metadata": {},
   "outputs": [
    {
     "name": "stdout",
     "output_type": "stream",
     "text": [
      "{'name': 'S M Samin', 'age': 10, 'grade': 'B'}\n",
      "{'name': 'S M Samin', 'age': 10, 'grade': 'B'}\n"
     ]
    }
   ],
   "source": [
    "student[\"grade\"] = \"B\"\n",
    "print(student)\n",
    "print(student_copy)"
   ]
  },
  {
   "cell_type": "code",
   "execution_count": 39,
   "metadata": {},
   "outputs": [
    {
     "name": "stdout",
     "output_type": "stream",
     "text": [
      "{'name': 'S M Samin', 'age': 20, 'grade': 'B'}\n",
      "{'name': 'S M Samin', 'age': 10, 'grade': 'B'}\n"
     ]
    }
   ],
   "source": [
    "student_copy1 = student.copy()\n",
    "student[\"age\"] = 20\n",
    "print(student)\n",
    "print(student_copy1)"
   ]
  },
  {
   "cell_type": "code",
   "execution_count": 41,
   "metadata": {},
   "outputs": [
    {
     "name": "stdout",
     "output_type": "stream",
     "text": [
      "name\n",
      "age\n",
      "grade\n"
     ]
    }
   ],
   "source": [
    "for key in student.keys():\n",
    "    print(key)"
   ]
  },
  {
   "cell_type": "code",
   "execution_count": 42,
   "metadata": {},
   "outputs": [
    {
     "name": "stdout",
     "output_type": "stream",
     "text": [
      "S M Samin\n",
      "20\n",
      "B\n"
     ]
    }
   ],
   "source": [
    "for value in student.values():\n",
    "    print(value)"
   ]
  },
  {
   "cell_type": "code",
   "execution_count": 45,
   "metadata": {},
   "outputs": [
    {
     "name": "stdout",
     "output_type": "stream",
     "text": [
      "name: S M Samin\n",
      "age: 20\n",
      "grade: B\n"
     ]
    }
   ],
   "source": [
    "for key,value in student.items():\n",
    "    print(f\"{key}: {value}\")"
   ]
  },
  {
   "cell_type": "markdown",
   "metadata": {},
   "source": [
    "# Nested Dictionaries"
   ]
  },
  {
   "cell_type": "code",
   "execution_count": 46,
   "metadata": {},
   "outputs": [
    {
     "data": {
      "text/plain": [
       "{'s1': {'name': 'Samin', 'age': 25}, 's2': {'name': 'Masud', 'age': 26}}"
      ]
     },
     "execution_count": 46,
     "metadata": {},
     "output_type": "execute_result"
    }
   ],
   "source": [
    "students = {\n",
    "    \"s1\":{\"name\":\"Samin\",\"age\":25},\n",
    "    \"s2\":{\"name\":\"Masud\",\"age\":26},\n",
    "}\n",
    "students"
   ]
  },
  {
   "cell_type": "code",
   "execution_count": 47,
   "metadata": {},
   "outputs": [
    {
     "name": "stdout",
     "output_type": "stream",
     "text": [
      "Samin\n",
      "26\n"
     ]
    }
   ],
   "source": [
    "print(students[\"s1\"][\"name\"])\n",
    "print(students[\"s2\"][\"age\"])"
   ]
  },
  {
   "cell_type": "code",
   "execution_count": 50,
   "metadata": {},
   "outputs": [
    {
     "name": "stdout",
     "output_type": "stream",
     "text": [
      "s1\n",
      "s2\n"
     ]
    }
   ],
   "source": [
    "for info in students:\n",
    "    print(info)"
   ]
  },
  {
   "cell_type": "code",
   "execution_count": 56,
   "metadata": {},
   "outputs": [
    {
     "name": "stdout",
     "output_type": "stream",
     "text": [
      "Student:s1 and Info:{'name': 'Samin', 'age': 25}\n",
      "Key:name and Value:Samin\n",
      "Key:age and Value:25\n",
      "\n",
      "Student:s2 and Info:{'name': 'Masud', 'age': 26}\n",
      "Key:name and Value:Masud\n",
      "Key:age and Value:26\n",
      "\n"
     ]
    }
   ],
   "source": [
    "for student,student_info in students.items():\n",
    "    print(f\"Student:{student} and Info:{student_info}\")\n",
    "    for key,value in student_info.items():\n",
    "        print(f\"Key:{key} and Value:{value}\")\n",
    "    print(\"\")"
   ]
  },
  {
   "cell_type": "markdown",
   "metadata": {},
   "source": [
    "# Dictionary Comprehension"
   ]
  },
  {
   "cell_type": "code",
   "execution_count": 57,
   "metadata": {},
   "outputs": [
    {
     "data": {
      "text/plain": [
       "{1: 1, 2: 4, 3: 9, 4: 16, 5: 25}"
      ]
     },
     "execution_count": 57,
     "metadata": {},
     "output_type": "execute_result"
    }
   ],
   "source": [
    "sqr = {i:i**2 for i in range(1,6) }\n",
    "sqr"
   ]
  },
  {
   "cell_type": "code",
   "execution_count": 59,
   "metadata": {},
   "outputs": [
    {
     "data": {
      "text/plain": [
       "{1: 1, 3: 9, 5: 25}"
      ]
     },
     "execution_count": 59,
     "metadata": {},
     "output_type": "execute_result"
    }
   ],
   "source": [
    "even_sqr = {i:i**2 for i in range(1,6) if i % 2 != 0}\n",
    "even_sqr"
   ]
  },
  {
   "cell_type": "markdown",
   "metadata": {},
   "source": [
    "Use a dictionary to count the frequency of elements in a list"
   ]
  },
  {
   "cell_type": "code",
   "execution_count": 72,
   "metadata": {},
   "outputs": [
    {
     "name": "stdout",
     "output_type": "stream",
     "text": [
      "{1: 1, 2: 2, 3: 3, 4: 5, 5: 2, 6: 1, 7: 3, 9: 1}\n"
     ]
    }
   ],
   "source": [
    "lst = [1,2,2,3,3,3,4,4,4,4,4,5,5,6,7,7,7,9]\n",
    "frequency = {}\n",
    "for i in lst:\n",
    "    if i in frequency:\n",
    "        frequency[i]+=1\n",
    "    else:\n",
    "        frequency[i] = 1\n",
    "print(frequency)"
   ]
  },
  {
   "cell_type": "code",
   "execution_count": 76,
   "metadata": {},
   "outputs": [
    {
     "name": "stdout",
     "output_type": "stream",
     "text": [
      "{'a': 1, 'b': 3, 'c': 4}\n"
     ]
    }
   ],
   "source": [
    "dict1 = {\"a\":1,\"b\":2}\n",
    "dict2 = {\"b\":3,\"c\":4}\n",
    "merge_dic = {**dict1,**dict2}\n",
    "print(merge_dic)"
   ]
  }
 ],
 "metadata": {
  "kernelspec": {
   "display_name": "Python 3",
   "language": "python",
   "name": "python3"
  },
  "language_info": {
   "codemirror_mode": {
    "name": "ipython",
    "version": 3
   },
   "file_extension": ".py",
   "mimetype": "text/x-python",
   "name": "python",
   "nbconvert_exporter": "python",
   "pygments_lexer": "ipython3",
   "version": "3.12.0"
  }
 },
 "nbformat": 4,
 "nbformat_minor": 2
}
