{
 "cells": [
  {
   "cell_type": "code",
   "execution_count": 2,
   "metadata": {},
   "outputs": [
    {
     "name": "stdout",
     "output_type": "stream",
     "text": [
      "35\n"
     ]
    }
   ],
   "source": [
    "def add(a,b):\n",
    "    return a + b\n",
    "\n",
    "result = add(12,23)\n",
    "print(result)"
   ]
  },
  {
   "cell_type": "code",
   "execution_count": 8,
   "metadata": {},
   "outputs": [
    {
     "name": "stdout",
     "output_type": "stream",
     "text": [
      "Hello Samin!!! Welcome to our restaurant\n"
     ]
    }
   ],
   "source": [
    "def greet(name):\n",
    "    print(f\"Hello {name}!!! Welcome to our restaurant\")\n",
    "\n",
    "greet(\"Samin\")"
   ]
  },
  {
   "cell_type": "code",
   "execution_count": 9,
   "metadata": {},
   "outputs": [
    {
     "name": "stdout",
     "output_type": "stream",
     "text": [
      "Hello Guest!!! Welcome to our restaurant\n"
     ]
    }
   ],
   "source": [
    "def greet(name = \"Guest\"):\n",
    "    print(f\"Hello {name}!!! Welcome to our restaurant\")\n",
    "\n",
    "greet()"
   ]
  },
  {
   "cell_type": "markdown",
   "metadata": {},
   "source": [
    "# Positional Arguments"
   ]
  },
  {
   "cell_type": "code",
   "execution_count": 11,
   "metadata": {},
   "outputs": [
    {
     "name": "stdout",
     "output_type": "stream",
     "text": [
      "1    4    5    33    6    7    Samin    True    False    1.4    "
     ]
    }
   ],
   "source": [
    "def print_nums(*args):\n",
    "    for i in args:\n",
    "        print(i, end=\"    \")\n",
    "\n",
    "print_nums(1,4,5,33,6,7,\"Samin\", True, False, 1.4)"
   ]
  },
  {
   "cell_type": "markdown",
   "metadata": {},
   "source": [
    "# Keyword Arguments"
   ]
  },
  {
   "cell_type": "code",
   "execution_count": 3,
   "metadata": {},
   "outputs": [
    {
     "name": "stdout",
     "output_type": "stream",
     "text": [
      "name:Samin\n",
      "age:24\n",
      "gender:Male\n"
     ]
    }
   ],
   "source": [
    "def print_details(**kwargs):\n",
    "    for key,value in kwargs.items():\n",
    "        print(f\"{key}:{value}\")\n",
    "\n",
    "dic = {\n",
    "    \"name\":\"Samin\",\n",
    "    \"age\":24,\n",
    "    \"gender\":\"Male\"\n",
    "}\n",
    "\n",
    "print_details(name=\"Samin\", age=24, gender=\"Male\")\n",
    "# print_details(**dic)"
   ]
  },
  {
   "cell_type": "code",
   "execution_count": 5,
   "metadata": {},
   "outputs": [
    {
     "name": "stdout",
     "output_type": "stream",
     "text": [
      "1\n",
      "4\n",
      "5\n",
      "33\n",
      "6\n",
      "7\n",
      "Samin\n",
      "True\n",
      "False\n",
      "1.4\n",
      "name:Samin\n",
      "age:24\n",
      "gender:Male\n"
     ]
    }
   ],
   "source": [
    "def print_details(*args,**kwargs):\n",
    "    for i in args:\n",
    "        print(i)\n",
    "\n",
    "    for key,value in kwargs.items():\n",
    "        print(f\"{key}:{value}\")\n",
    "\n",
    "print_details(1,4,5,33,6,7,\"Samin\", True, False, 1.4, name=\"Samin\", age=\"24\", gender=\"Male\")"
   ]
  },
  {
   "cell_type": "markdown",
   "metadata": {},
   "source": [
    "# Return Multiple parameters"
   ]
  },
  {
   "cell_type": "code",
   "execution_count": 33,
   "metadata": {},
   "outputs": [
    {
     "name": "stdout",
     "output_type": "stream",
     "text": [
      "31 9 220 1.8181818181818181 1\n"
     ]
    }
   ],
   "source": [
    "def results(a,b):\n",
    "    return a+b, a-b, a*b, a/b, a//b\n",
    "\n",
    "# results(20,11)\n",
    "sum, sub, mul, div, fdiv = results(20,11)\n",
    "print(sum,sub,mul,div,fdiv)"
   ]
  },
  {
   "cell_type": "code",
   "execution_count": 34,
   "metadata": {},
   "outputs": [
    {
     "name": "stdout",
     "output_type": "stream",
     "text": [
      "At least one value is True.\n"
     ]
    }
   ],
   "source": [
    "values = [0, None, False, 1]\n",
    "\n",
    "if not any(values):\n",
    "    print(\"None of the values are True.\")\n",
    "else:\n",
    "    print(\"At least one value is True.\") "
   ]
  },
  {
   "cell_type": "markdown",
   "metadata": {},
   "source": [
    "# Strong Password Check"
   ]
  },
  {
   "cell_type": "code",
   "execution_count": 39,
   "metadata": {},
   "outputs": [
    {
     "name": "stdout",
     "output_type": "stream",
     "text": [
      "False\n",
      "False\n",
      "True\n"
     ]
    }
   ],
   "source": [
    "def is_strong(password):\n",
    "    if len(password)<8:\n",
    "        return False\n",
    "    elif not any(char.isdigit() for char in password):\n",
    "        return False\n",
    "    elif not any(char.islower() for char in password):\n",
    "        return False\n",
    "    elif not any(char.isupper() for char in password):\n",
    "        return False\n",
    "    elif not any(char in \"!@#$%&*()_+\" for char in password):\n",
    "        return False\n",
    "    return True\n",
    "\n",
    "print(is_strong(\"WeakPwd\"))\n",
    "print(is_strong(\"WeakPwd!\"))\n",
    "print(is_strong(\"WeakPwd!1\"))"
   ]
  },
  {
   "cell_type": "markdown",
   "metadata": {},
   "source": [
    "# Total cost of cart"
   ]
  },
  {
   "cell_type": "code",
   "execution_count": 47,
   "metadata": {},
   "outputs": [
    {
     "name": "stdout",
     "output_type": "stream",
     "text": [
      "6.6\n"
     ]
    }
   ],
   "source": [
    "def total_cost(cart):\n",
    "    total = 0\n",
    "    for i in cart:\n",
    "        total += i[\"price\"] * i[\"quantity\"]\n",
    "    return total\n",
    "\n",
    "cart = [\n",
    "    {\"item\": \"Apple\", \"price\": .6, \"quantity\": 4},\n",
    "    {\"item\": \"Banana\", \"price\": .3, \"quantity\": 8},\n",
    "    {\"item\": \"Orange\", \"price\": .9, \"quantity\": 2}\n",
    "]\n",
    "result = total_cost(cart)\n",
    "print(result)"
   ]
  },
  {
   "cell_type": "markdown",
   "metadata": {},
   "source": [
    "# Palindrome"
   ]
  },
  {
   "cell_type": "code",
   "execution_count": 2,
   "metadata": {},
   "outputs": [
    {
     "name": "stdout",
     "output_type": "stream",
     "text": [
      "oppo\n",
      "oppo\n",
      "Not palindrome\n"
     ]
    }
   ],
   "source": [
    "def palindrome(str):\n",
    "    str=str.lower().replace(\" \",\"\")\n",
    "    print(str)\n",
    "    return str[::-1]\n",
    "\n",
    "str = \"oPP  o\"\n",
    "ck = palindrome(str)\n",
    "print(ck)\n",
    "if  str == ck:  \n",
    "    print(\"Palindrome\")\n",
    "else:\n",
    "    print(\"Not palindrome\")"
   ]
  },
  {
   "cell_type": "markdown",
   "metadata": {},
   "source": [
    "# Read file and count frequency of words"
   ]
  },
  {
   "cell_type": "code",
   "execution_count": 7,
   "metadata": {},
   "outputs": [
    {
     "name": "stdout",
     "output_type": "stream",
     "text": [
      "['My', 'name', 'is', 'Samin.']\n",
      "my\n",
      "name\n",
      "is\n",
      "samin\n",
      "['I', 'am', 'Samin,']\n",
      "i\n",
      "am\n",
      "samin\n",
      "['I', 'am', 'a', 'boy!!']\n",
      "i\n",
      "am\n",
      "a\n",
      "boy\n",
      "{'my': 1, 'name': 1, 'is': 1, 'samin': 2, 'i': 2, 'am': 2, 'a': 1, 'boy': 1}\n"
     ]
    }
   ],
   "source": [
    "def frequency_count(file_path):\n",
    "    word_frequency = {}\n",
    "    with open(file_path, \"r\") as file:\n",
    "        for line in file:\n",
    "            words = line.split()\n",
    "            print(words)\n",
    "            for word in words:\n",
    "                word = word.lower().strip('.,?!;:\"\\'')\n",
    "                print(word)\n",
    "                # if word in word_frequency:\n",
    "                #     word_frequency[word] += 1\n",
    "                # else:\n",
    "                #     word_frequency[word] = 1\n",
    "                word_frequency[word] = word_frequency.get(word,0) + 1\n",
    "    return word_frequency\n",
    "\n",
    "file_path = \"sample.txt\"\n",
    "print(frequency_count(file_path))"
   ]
  },
  {
   "cell_type": "markdown",
   "metadata": {},
   "source": [
    "# Map"
   ]
  },
  {
   "cell_type": "code",
   "execution_count": 46,
   "metadata": {},
   "outputs": [
    {
     "name": "stdout",
     "output_type": "stream",
     "text": [
      "{1: 1, 2: 4, 3: 9, 4: 16, 5: 25}\n"
     ]
    },
    {
     "data": {
      "text/plain": [
       "(1, 4, 9, 16, 25)"
      ]
     },
     "execution_count": 46,
     "metadata": {},
     "output_type": "execute_result"
    }
   ],
   "source": [
    "def square(x):\n",
    "    return x**2\n",
    "\n",
    "numbers = [1,2,3,4,5]\n",
    "\n",
    "print({i:i**2 for i in numbers})\n",
    "\n",
    "\n",
    "tuple(map(square,numbers))"
   ]
  },
  {
   "cell_type": "markdown",
   "metadata": {},
   "source": [
    "# Lambda using map"
   ]
  },
  {
   "cell_type": "code",
   "execution_count": 49,
   "metadata": {},
   "outputs": [
    {
     "data": {
      "text/plain": [
       "[1, 4, 9, 16, 25]"
      ]
     },
     "execution_count": 49,
     "metadata": {},
     "output_type": "execute_result"
    }
   ],
   "source": [
    "numbers = [1,2,3,4,5]\n",
    "\n",
    "list(map(lambda x:x**2, numbers))"
   ]
  },
  {
   "cell_type": "code",
   "execution_count": 12,
   "metadata": {},
   "outputs": [
    {
     "name": "stdout",
     "output_type": "stream",
     "text": [
      "[5, 7, 9]\n"
     ]
    }
   ],
   "source": [
    "num1 = [1,2,3]\n",
    "num2 = [4,5,6]\n",
    "print(list(map(lambda x,y: x+y, num1,num2)))"
   ]
  },
  {
   "cell_type": "code",
   "execution_count": 51,
   "metadata": {},
   "outputs": [
    {
     "name": "stdout",
     "output_type": "stream",
     "text": [
      "[1, 2, 3, 4, 5]\n"
     ]
    }
   ],
   "source": [
    "srt_numbers = [\"1\", \"2\", \"3\", \"4\", \"5\"]\n",
    "\n",
    "print(list(map(int, srt_numbers)))"
   ]
  },
  {
   "cell_type": "code",
   "execution_count": 54,
   "metadata": {},
   "outputs": [
    {
     "name": "stdout",
     "output_type": "stream",
     "text": [
      "['APPLE', 'BANANA', 'CHERRY']\n"
     ]
    }
   ],
   "source": [
    "words = [\"apple\", \"banana\", \"cherry\"]\n",
    "# print(words[0].upper())\n",
    "print(list(map(str.upper,words)))"
   ]
  },
  {
   "cell_type": "code",
   "execution_count": 57,
   "metadata": {},
   "outputs": [
    {
     "data": {
      "text/plain": [
       "['samin', 'masud']"
      ]
     },
     "execution_count": 57,
     "metadata": {},
     "output_type": "execute_result"
    }
   ],
   "source": [
    "def get_name(person):\n",
    "    return person[\"name\"]\n",
    "\n",
    "people = [\n",
    "    {\"name\":\"samin\", \"age\": 24},\n",
    "    {\"name\":\"masud\", \"age\": 24}\n",
    "]\n",
    "\n",
    "list(map(get_name,people))"
   ]
  },
  {
   "cell_type": "code",
   "execution_count": 1,
   "metadata": {},
   "outputs": [
    {
     "name": "stdout",
     "output_type": "stream",
     "text": [
      "38\n"
     ]
    }
   ],
   "source": [
    "sum = lambda a,b,c:a+b+c\n",
    "print(sum(12,23,3))"
   ]
  },
  {
   "cell_type": "code",
   "execution_count": 10,
   "metadata": {},
   "outputs": [
    {
     "name": "stdout",
     "output_type": "stream",
     "text": [
      "False\n"
     ]
    }
   ],
   "source": [
    "even = lambda x:x%2==0\n",
    "\n",
    "print(even(1))"
   ]
  },
  {
   "cell_type": "markdown",
   "metadata": {},
   "source": [
    "# Filter"
   ]
  },
  {
   "cell_type": "code",
   "execution_count": 13,
   "metadata": {},
   "outputs": [],
   "source": [
    "def even(num):\n",
    "    if num % 2 == 0:\n",
    "        return True\n",
    "    return False"
   ]
  },
  {
   "cell_type": "code",
   "execution_count": 14,
   "metadata": {},
   "outputs": [
    {
     "name": "stdout",
     "output_type": "stream",
     "text": [
      "[False, True, False, True, False, True, False, True, False, True, False, True]\n",
      "[2, 4, 6, 8, 10, 12]\n",
      "[False, False, False, False, False, True, True, True, True, True, True, True]\n",
      "[6, 7, 8, 9, 10, 11, 12]\n",
      "[6, 8, 10, 12]\n"
     ]
    }
   ],
   "source": [
    "numbers=[1,2,3,4,5,6,7,8,9,10,11,12]\n",
    "print(list(map(even,numbers)))\n",
    "print(list(filter(even,numbers)))\n",
    "print(list(map(lambda x:x>5,numbers)))\n",
    "print(list(filter(lambda x:x>5,numbers)))\n",
    "print(list(filter(lambda x:x>5 and x%2==0,numbers)))"
   ]
  },
  {
   "cell_type": "code",
   "execution_count": 33,
   "metadata": {},
   "outputs": [
    {
     "name": "stdout",
     "output_type": "stream",
     "text": [
      "[{'name': 'masud', 'age': 33}, {'name': 'halim', 'age': 26}]\n"
     ]
    }
   ],
   "source": [
    "people = [\n",
    "    {\"name\": \"samin\", \"age\":25},\n",
    "    {\"name\": \"masud\", \"age\":33},\n",
    "    {\"name\": \"kashem\", \"age\":20},\n",
    "    {\"name\": \"halim\", \"age\":26}\n",
    "]\n",
    "\n",
    "def check(person):\n",
    "    return person[\"age\"]>25\n",
    "\n",
    "print(list(filter(check,people)))"
   ]
  }
 ],
 "metadata": {
  "kernelspec": {
   "display_name": "Python 3",
   "language": "python",
   "name": "python3"
  },
  "language_info": {
   "codemirror_mode": {
    "name": "ipython",
    "version": 3
   },
   "file_extension": ".py",
   "mimetype": "text/x-python",
   "name": "python",
   "nbconvert_exporter": "python",
   "pygments_lexer": "ipython3",
   "version": "3.12.0"
  }
 },
 "nbformat": 4,
 "nbformat_minor": 2
}
