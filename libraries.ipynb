{
 "cells": [
  {
   "cell_type": "code",
   "execution_count": 4,
   "metadata": {},
   "outputs": [
    {
     "data": {
      "text/plain": [
       "array('i', [1, 2, 3])"
      ]
     },
     "execution_count": 4,
     "metadata": {},
     "output_type": "execute_result"
    }
   ],
   "source": [
    "import array\n",
    "my_arr = array.array(\"i\", [1,2,3])\n",
    "my_arr"
   ]
  },
  {
   "cell_type": "code",
   "execution_count": 16,
   "metadata": {},
   "outputs": [
    {
     "name": "stdout",
     "output_type": "stream",
     "text": [
      "0.9817426641692091\n",
      "19\n",
      "apple\n"
     ]
    }
   ],
   "source": [
    "import random\n",
    "print(random.random())\n",
    "print(random.randint(1,20))\n",
    "print(random.choice([\"apple\", \"banana\", \"guava\", \"cherry\"]))"
   ]
  },
  {
   "cell_type": "markdown",
   "metadata": {},
   "source": [
    "# File and directory access"
   ]
  },
  {
   "cell_type": "code",
   "execution_count": null,
   "metadata": {},
   "outputs": [
    {
     "name": "stdout",
     "output_type": "stream",
     "text": [
      "e:\\Python NLP Code\\test\n"
     ]
    }
   ],
   "source": [
    "import os\n",
    "# current directory\n",
    "print(os.getcwd())"
   ]
  },
  {
   "cell_type": "code",
   "execution_count": null,
   "metadata": {},
   "outputs": [],
   "source": [
    "# make a directory or folder\n",
    "\n",
    "os.mkdir(\"test_dir\")"
   ]
  },
  {
   "cell_type": "code",
   "execution_count": 19,
   "metadata": {},
   "outputs": [
    {
     "data": {
      "text/plain": [
       "'destination.txt'"
      ]
     },
     "execution_count": 19,
     "metadata": {},
     "output_type": "execute_result"
    }
   ],
   "source": [
    "# High level operation on files and collection of files\n",
    "\n",
    "import shutil\n",
    "shutil.copyfile(\"source.txt\", \"destination.txt\")"
   ]
  },
  {
   "cell_type": "code",
   "execution_count": 21,
   "metadata": {},
   "outputs": [
    {
     "name": "stdout",
     "output_type": "stream",
     "text": [
      "{\"name\": \"Samin\", \"age\": 25}\n",
      "<class 'str'>\n",
      "{'name': 'Samin', 'age': 25}\n",
      "<class 'dict'>\n"
     ]
    }
   ],
   "source": [
    "# Data serialization\n",
    "\n",
    "import json\n",
    "\n",
    "data = {\n",
    "    \"name\": \"Samin\",\n",
    "    \"age\": 25\n",
    "}\n",
    "\n",
    "json_str = json.dumps(data) #aita data dictionary ta ke string a convert kore dey\n",
    "\n",
    "print(json_str)\n",
    "print(type(json_str))\n",
    "\n",
    "json_dic = json.loads(json_str) # aita string json file ta ke aber dictionary te convert kore dey\n",
    "print(json_dic)\n",
    "print(type(json_dic))"
   ]
  },
  {
   "cell_type": "code",
   "execution_count": 27,
   "metadata": {},
   "outputs": [
    {
     "name": "stdout",
     "output_type": "stream",
     "text": [
      "['name', 'age']\n",
      "['Samin', '25']\n"
     ]
    }
   ],
   "source": [
    "import csv\n",
    "\n",
    "with open(\"example.csv\", \"w\", newline=\"\") as file:\n",
    "    writer = csv.writer(file)\n",
    "    writer.writerow([\"name\", \"age\"])\n",
    "    writer.writerow([\"Samin\", 25])\n",
    "\n",
    "with open(\"example.csv\", \"r\") as file:\n",
    "    reader = csv.reader(file)\n",
    "    for i in reader:\n",
    "        print(i)"
   ]
  },
  {
   "cell_type": "code",
   "execution_count": null,
   "metadata": {},
   "outputs": [
    {
     "name": "stdout",
     "output_type": "stream",
     "text": [
      "2025-03-21 00:08:24.998689\n",
      "2025-03-20 00:08:24.998689\n"
     ]
    }
   ],
   "source": [
    "#DateTime\n",
    "\n",
    "from datetime import datetime, timedelta\n",
    "\n",
    "now = datetime.now()\n",
    "print(now)\n",
    "\n",
    "yesterday = now - timedelta(days=1)\n",
    "print(yesterday)"
   ]
  },
  {
   "cell_type": "code",
   "execution_count": 31,
   "metadata": {},
   "outputs": [
    {
     "name": "stdout",
     "output_type": "stream",
     "text": [
      "1742494203.0354154\n",
      "1742494205.0366518\n"
     ]
    }
   ],
   "source": [
    "# Time\n",
    "\n",
    "import time\n",
    "\n",
    "print(time.time())\n",
    "time.sleep(2)\n",
    "print(time.time())"
   ]
  },
  {
   "cell_type": "code",
   "execution_count": 42,
   "metadata": {},
   "outputs": [
    {
     "name": "stdout",
     "output_type": "stream",
     "text": [
      "1234\n"
     ]
    }
   ],
   "source": [
    "# Regular expression\n",
    "\n",
    "import re\n",
    "\n",
    "pattern = r\"\\d+\"\n",
    "text = \"There are 1234 apples\"\n",
    "match = re.search(pattern,text)\n",
    "print(match.group())"
   ]
  }
 ],
 "metadata": {
  "kernelspec": {
   "display_name": "Python 3",
   "language": "python",
   "name": "python3"
  },
  "language_info": {
   "codemirror_mode": {
    "name": "ipython",
    "version": 3
   },
   "file_extension": ".py",
   "mimetype": "text/x-python",
   "name": "python",
   "nbconvert_exporter": "python",
   "pygments_lexer": "ipython3",
   "version": "3.12.0"
  }
 },
 "nbformat": 4,
 "nbformat_minor": 2
}
