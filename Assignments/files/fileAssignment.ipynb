{
 "cells": [
  {
   "cell_type": "markdown",
   "metadata": {},
   "source": [
    "### Assignment 1: Reading a File\n",
    "\n",
    "Write a function that reads the contents of a file named `sample.txt` and prints each line."
   ]
  },
  {
   "cell_type": "code",
   "execution_count": 4,
   "metadata": {},
   "outputs": [
    {
     "name": "stdout",
     "output_type": "stream",
     "text": [
      "My name is Samin. \n",
      "I have recently completed my graduation from AUST.\n"
     ]
    }
   ],
   "source": [
    "def read(path):\n",
    "    with open(path, \"r\") as file:\n",
    "        read_content = file.read()\n",
    "        return read_content\n",
    "\n",
    "path = \"sample.txt\"\n",
    "print(read(path))"
   ]
  },
  {
   "cell_type": "markdown",
   "metadata": {},
   "source": [
    "### Assignment 2: Writing to a File\n",
    "\n",
    "Write a function that writes a list of strings to a file named `output.txt`, with each string on a new line."
   ]
  },
  {
   "cell_type": "code",
   "execution_count": 4,
   "metadata": {},
   "outputs": [],
   "source": [
    "def write(path, lst):\n",
    "    with open(path, \"w\")as file:\n",
    "        for line in lst:\n",
    "            file.write(line+\"\\n\")\n",
    "\n",
    "path = \"output.txt\"\n",
    "lst = [\"My name is Samin\", \"I am a boy\"]\n",
    "write(path,lst)"
   ]
  },
  {
   "cell_type": "markdown",
   "metadata": {},
   "source": [
    "### Assignment 3: Copying a File\n",
    "\n",
    "Write a function that copies the contents of a file named `source.txt` to a new file named `destination.txt`."
   ]
  },
  {
   "cell_type": "code",
   "execution_count": 6,
   "metadata": {},
   "outputs": [],
   "source": [
    "def transfer(source, destination):\n",
    "    with open(source,\"r\") as file:\n",
    "        contents = file.read()\n",
    "    with open(destination, \"w\") as file:\n",
    "        file.write(contents)\n",
    "\n",
    "source = \"source.txt\"\n",
    "destination = \"destination.txt\"\n",
    "\n",
    "transfer(source, destination)"
   ]
  },
  {
   "cell_type": "markdown",
   "metadata": {},
   "source": [
    "### Assignment 4: Appending to a File\n",
    "\n",
    "Write a function that appends a given string to the end of a file named `log.txt`.\n"
   ]
  },
  {
   "cell_type": "code",
   "execution_count": 7,
   "metadata": {},
   "outputs": [],
   "source": [
    "def app(path, str):\n",
    "    with open(path,\"a\") as file:\n",
    "        file.write(str)\n",
    "\n",
    "app(\"log.txt\", \"I am from Thakurgaon\")\n",
    "\n"
   ]
  },
  {
   "cell_type": "markdown",
   "metadata": {},
   "source": [
    "### Assignment 5: Counting Words in a File\n",
    "\n",
    "Write a function that reads the contents of a file named `document.txt` and returns the number of words in the file."
   ]
  },
  {
   "cell_type": "code",
   "execution_count": 15,
   "metadata": {},
   "outputs": [
    {
     "name": "stdout",
     "output_type": "stream",
     "text": [
      "['My', 'name', 'is', 'Samin.', 'I', 'have', 'recently', 'completed', 'my', 'graduation', 'from', 'AUST.']\n",
      "12\n"
     ]
    }
   ],
   "source": [
    "def cout_words(path):\n",
    "    # with open(path) as file:\n",
    "    #     words = sum(len(line.split()) for line in file)\n",
    "    # return words\n",
    "    with open(path, \"r\") as file:\n",
    "        text = file.read()\n",
    "        words = text.split()\n",
    "        print(words)\n",
    "        return len(words)\n",
    "\n",
    "print(cout_words(\"document.txt\"))"
   ]
  },
  {
   "cell_type": "markdown",
   "metadata": {},
   "source": [
    "### Assignment 6: Finding and Replacing Text\n",
    "\n",
    "Write a function that finds and replaces all occurrences of a given word in a file named `data.txt` with another word."
   ]
  },
  {
   "cell_type": "code",
   "execution_count": 17,
   "metadata": {},
   "outputs": [],
   "source": [
    "def replaced(path, old, new):\n",
    "    with open(path, \"r\") as file:\n",
    "        content = file.read()\n",
    "        newContent = content.replace(old, new)\n",
    "    with open(path, \"w\") as file:\n",
    "        file.write(newContent)\n",
    "\n",
    "replaced(\"data.txt\", \"Masud\", \"Samin\")"
   ]
  },
  {
   "cell_type": "markdown",
   "metadata": {},
   "source": [
    "### Assignment 7: Reading a File in Reverse\n",
    "\n",
    "Write a function that reads the contents of a file named `reverse.txt` and prints each line in reverse order."
   ]
  },
  {
   "cell_type": "code",
   "execution_count": 80,
   "metadata": {},
   "outputs": [
    {
     "name": "stdout",
     "output_type": "stream",
     "text": [
      "hello samin\n",
      "I am Samin\n",
      "['n', 'i', 'm', 'a', 's']\n"
     ]
    }
   ],
   "source": [
    "def reverse(path):\n",
    "    with open(path,\"r\") as file:\n",
    "        content = file.readlines()\n",
    "    for line in reversed(content):\n",
    "        # print(type(line))\n",
    "        print(line.strip())\n",
    "\n",
    "reverse(\"reverse.txt\")\n",
    "numbers = \"samin\"\n",
    "rev_numbers = reversed(numbers)  # Returns an iterator\n",
    "print(list(rev_numbers))"
   ]
  },
  {
   "cell_type": "markdown",
   "metadata": {},
   "source": [
    "### Assignment 8: Counting Lines, Words, and Characters\n",
    "\n",
    "Write a function that reads the contents of a file named `stats.txt` and returns the number of lines, words, and characters in the file."
   ]
  },
  {
   "cell_type": "code",
   "execution_count": 3,
   "metadata": {},
   "outputs": [
    {
     "name": "stdout",
     "output_type": "stream",
     "text": [
      "Line: 2 Word: 4 Character: 17\n"
     ]
    }
   ],
   "source": [
    "def counting_all(path):\n",
    "    with open(path, \"r\") as file:\n",
    "        lines = file.readlines()\n",
    "        # print(lines)\n",
    "        line_count = len(lines)\n",
    "        # print(line_count)\n",
    "        word_count = sum(len(line.split()) for line in lines)\n",
    "        # print(word_count)\n",
    "        char_count = sum(len(line.strip(\"\\n\").replace(\" \", \"\")) for line in lines)\n",
    "        # print(char_count)x x\n",
    "    return line_count, word_count, char_count\n",
    "\n",
    "line, word, char = counting_all(\"stats.txt\")\n",
    "print(f\"Line: {line} Word: {word} Character: {char}\")"
   ]
  },
  {
   "cell_type": "markdown",
   "metadata": {},
   "source": [
    "### Assignment 9: Merging Multiple Files\n",
    "\n",
    "Write a function that merges the contents of multiple files into a single file named `merged.txt`."
   ]
  },
  {
   "cell_type": "code",
   "execution_count": 6,
   "metadata": {},
   "outputs": [],
   "source": [
    "def merged(path1, path2):\n",
    "    with open(path1, \"r\") as file1:\n",
    "        with open(path2, \"r\") as file2:\n",
    "            with open(\"merged.txt\", \"w\") as file3:\n",
    "                file3.write(file1.read() + \"\\n\" + file2.read())\n",
    "\n",
    "merged(\"source.txt\", \"sample.txt\")"
   ]
  },
  {
   "cell_type": "code",
   "execution_count": null,
   "metadata": {},
   "outputs": [],
   "source": [
    "def merge_files(file_list, output_file):\n",
    "    with open(output_file, \"w\") as outfile:\n",
    "        for fname in file_list:\n",
    "            with open(fname, \"r\") as infile:\n",
    "                outfile.write(infile.read() + \"\\n\")"
   ]
  },
  {
   "cell_type": "markdown",
   "metadata": {},
   "source": [
    "### Assignment 10: Splitting a Large File\n",
    "\n",
    "Write a function that splits a large file named `large.txt` into smaller files of 100 lines each."
   ]
  },
  {
   "cell_type": "code",
   "execution_count": 6,
   "metadata": {},
   "outputs": [],
   "source": [
    "def split_file(filename, lines_per_file):\n",
    "    with open(filename, \"r\") as file:\n",
    "        lines = file.readlines()\n",
    "    for i in range(0, len(lines), lines_per_file):\n",
    "        with open(f\"{filename}_part{i//lines_per_file + 1}.txt\", \"w\") as part_file:\n",
    "            part_file.writelines(lines[i : i + lines_per_file])\n",
    "\n",
    "\n",
    "# Test\n",
    "split_file('large.txt', 100)"
   ]
  },
  {
   "cell_type": "code",
   "execution_count": 8,
   "metadata": {},
   "outputs": [],
   "source": [
    "def split_file(file_name, length):\n",
    "    with open(file_name, \"r\") as file:\n",
    "        lines = file.readlines()\n",
    "    for i in range(0, len(lines), length):\n",
    "        with open(f\"{file_name}_part{i//length+1}.txt\", \"w\") as small_file:\n",
    "            small_file.writelines(lines[i:i+length])\n",
    "\n",
    "split_file(\"large.txt\", 100)"
   ]
  },
  {
   "cell_type": "markdown",
   "metadata": {},
   "source": [
    "### Assignment 11: Creating a Log File\n",
    "\n",
    "Write a function that creates a log file named `activity.log` and writes log messages with timestamps."
   ]
  },
  {
   "cell_type": "code",
   "execution_count": 9,
   "metadata": {},
   "outputs": [],
   "source": [
    "import datetime\n",
    "\n",
    "\n",
    "def log_message(message, filename=\"activity.log\"):\n",
    "    timestamp = datetime.datetime.now().isoformat()\n",
    "    with open(filename, \"a\") as file:\n",
    "        file.write(f\"[{timestamp}] {message}\\n\")\n",
    "\n",
    "\n",
    "# Test\n",
    "log_message('This is a log message.')"
   ]
  },
  {
   "cell_type": "markdown",
   "metadata": {},
   "source": [
    "### Assignment 12: Binary File Operations\n",
    "\n",
    "Write a function that reads a binary file named `image.bin` and writes its contents to another binary file named `copy_image.bin`."
   ]
  },
  {
   "cell_type": "code",
   "execution_count": 10,
   "metadata": {},
   "outputs": [],
   "source": [
    "def binary(path):\n",
    "    with open(path, \"rb\") as file:\n",
    "        contents = file.read()\n",
    "        with open(\"copy_image.bin\", \"wb\") as w_file:\n",
    "            w_file.write(contents)\n",
    "\n",
    "binary(\"image.bin\")"
   ]
  },
  {
   "cell_type": "markdown",
   "metadata": {},
   "source": [
    "### Assignment 13: CSV File Operations\n",
    "\n",
    "Write a function that reads a CSV file named `data.csv` and prints its contents as a list of dictionaries."
   ]
  },
  {
   "cell_type": "code",
   "execution_count": 15,
   "metadata": {},
   "outputs": [
    {
     "name": "stdout",
     "output_type": "stream",
     "text": [
      "[{'Line 1: The sky was painted with hues of orange and pink as the sun began to set.': 'Line 2: Birds flew across the horizon', None: [' their wings flapping rhythmically.']}, {'Line 1: The sky was painted with hues of orange and pink as the sun began to set.': 'Line 3: A gentle breeze rustled the leaves of the trees', None: [' creating a soft', ' soothing sound.']}, {'Line 1: The sky was painted with hues of orange and pink as the sun began to set.': 'Line 4: The scent of freshly bloomed flowers filled the air', None: [' adding to the tranquility of the evening.']}, {'Line 1: The sky was painted with hues of orange and pink as the sun began to set.': 'Line 5: A river ran through the valley below', None: [' its surface shimmering in the fading light.']}, {'Line 1: The sky was painted with hues of orange and pink as the sun began to set.': 'Line 6: Far in the distance', None: [' mountains stood tall', ' their peaks covered in snow.']}, {'Line 1: The sky was painted with hues of orange and pink as the sun began to set.': 'Line 7: The world seemed peaceful', None: [' almost as if time had slowed down for a moment.']}, {'Line 1: The sky was painted with hues of orange and pink as the sun began to set.': 'Line 8: Somewhere in the distance', None: [' a wolf howled', ' breaking the silence with its eerie call.']}, {'Line 1: The sky was painted with hues of orange and pink as the sun began to set.': 'Line 9: The moon began to rise', None: [' casting a pale light over the land.']}, {'Line 1: The sky was painted with hues of orange and pink as the sun began to set.': 'Line 10: Stars started to twinkle in the darkening sky', None: [' one by one', ' as night took over.']}]\n"
     ]
    }
   ],
   "source": [
    "import csv\n",
    "\n",
    "def csv_file(path):\n",
    "    with open(path, \"r\") as file:\n",
    "        reader = csv.DictReader(file)\n",
    "        return list(reader)\n",
    "\n",
    "print(csv_file(\"data.csv\"))\n",
    "\n"
   ]
  },
  {
   "cell_type": "markdown",
   "metadata": {},
   "source": [
    "### Assignment 14: JSON File Operations\n",
    "\n",
    "Write a function that reads a JSON file named `data.json` and prints its contents as a Python dictionary."
   ]
  },
  {
   "cell_type": "code",
   "execution_count": 18,
   "metadata": {},
   "outputs": [
    {
     "name": "stdout",
     "output_type": "stream",
     "text": [
      "{'name': 'John Doe', 'age': 30, 'email': 'johndoe@example.com', 'address': {'street': '123 Main St', 'city': 'New York', 'zip': '10001'}, 'preferences': ['music', 'travel', 'coding']}\n"
     ]
    }
   ],
   "source": [
    "import json\n",
    "\n",
    "\n",
    "def read_json(filename):\n",
    "    with open(filename, \"r\") as file:\n",
    "        data = json.load(file)\n",
    "        return data\n",
    "\n",
    "\n",
    "# Test\n",
    "print(read_json('data.json'))"
   ]
  },
  {
   "cell_type": "markdown",
   "metadata": {},
   "source": [
    "### Assignment 15: File Permission Handling\n",
    "\n",
    "Write a function that attempts to read a file named `protected.txt` and handles any permission errors gracefully by printing an error message."
   ]
  },
  {
   "cell_type": "code",
   "execution_count": 19,
   "metadata": {},
   "outputs": [
    {
     "name": "stdout",
     "output_type": "stream",
     "text": [
      "Hello samin\n",
      "Hi masud\n",
      "How are you?\n"
     ]
    }
   ],
   "source": [
    "def read_protected_file(filename):\n",
    "    try:\n",
    "        with open(filename, \"r\") as file:\n",
    "            print(file.read())\n",
    "    except PermissionError as e:\n",
    "        print(f\"Permission error: {e}\")\n",
    "\n",
    "\n",
    "# Test\n",
    "read_protected_file('protected.txt')"
   ]
  }
 ],
 "metadata": {
  "kernelspec": {
   "display_name": "Python 3",
   "language": "python",
   "name": "python3"
  },
  "language_info": {
   "codemirror_mode": {
    "name": "ipython",
    "version": 3
   },
   "file_extension": ".py",
   "mimetype": "text/x-python",
   "name": "python",
   "nbconvert_exporter": "python",
   "pygments_lexer": "ipython3",
   "version": "3.12.0"
  }
 },
 "nbformat": 4,
 "nbformat_minor": 2
}
