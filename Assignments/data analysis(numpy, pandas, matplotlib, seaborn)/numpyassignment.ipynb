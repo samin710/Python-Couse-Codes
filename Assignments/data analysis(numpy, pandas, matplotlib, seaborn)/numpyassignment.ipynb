{
 "cells": [
  {
   "cell_type": "markdown",
   "metadata": {},
   "source": [
    "# Module: NumPy Assignments\n",
    "## Lesson: NumPy\n",
    "### Assignment 1: Array Creation and Manipulation\n",
    "\n",
    "1. Create a NumPy array of shape (5, 5) filled with random integers between 1 and 20. Replace all the elements in the third column with 1."
   ]
  },
  {
   "cell_type": "markdown",
   "metadata": {},
   "source": [
    "2. Create a NumPy array of shape (4, 4) with values from 1 to 16. Replace the diagonal elements with 0."
   ]
  },
  {
   "cell_type": "code",
   "execution_count": 1,
   "id": "fbb6368d",
   "metadata": {},
   "outputs": [],
   "source": [
    "import numpy as np"
   ]
  },
  {
   "cell_type": "code",
   "execution_count": 2,
   "id": "b49260b3",
   "metadata": {},
   "outputs": [
    {
     "data": {
      "text/plain": [
       "[[16, 17, 2, 5, 2],\n",
       " [2, 15, 4, 11, 4],\n",
       " [2, 15, 9, 19, 1],\n",
       " [9, 13, 16, 1, 19],\n",
       " [13, 1, 12, 19, 3]]"
      ]
     },
     "execution_count": 2,
     "metadata": {},
     "output_type": "execute_result"
    }
   ],
   "source": [
    "[[np.random.randint(1, 20) for _ in range(5)] for _ in range(5)]"
   ]
  },
  {
   "cell_type": "code",
   "execution_count": 3,
   "id": "4b54a853",
   "metadata": {},
   "outputs": [
    {
     "name": "stdout",
     "output_type": "stream",
     "text": [
      "(5, 5)\n",
      "Original:\n",
      " [[ 2 16  7 15 10]\n",
      " [ 8 12  7  3  6]\n",
      " [18  1 19 11 11]\n",
      " [15 16 15  8  9]\n",
      " [10  1  3 12 17]]\n",
      "(5, 5)\n",
      "Original:\n",
      " [[ 1 14 19 19 11]\n",
      " [ 2 10 15  5  3]\n",
      " [15  1  1  6  8]\n",
      " [ 1 15  6  7  4]\n",
      " [ 2  4 14  4  8]]\n",
      "After: \n",
      "[[ 1 14  1 19 11]\n",
      " [ 2 10  1  5  3]\n",
      " [15  1  1  6  8]\n",
      " [ 1 15  1  7  4]\n",
      " [ 2  4  1  4  8]]\n"
     ]
    }
   ],
   "source": [
    "arr = np.array([[np.random.randint(1,20) for _ in range(5)]for _ in range(5)])\n",
    "arr1 = np.random.randint(1,20, size=(5,5))\n",
    "print(arr1.shape)\n",
    "print(f\"Original:\\n {arr1}\")\n",
    "print(arr.shape)\n",
    "print(f\"Original:\\n {arr}\")\n",
    "arr[:,2] = 1\n",
    "print(f\"After: \\n{arr}\")"
   ]
  },
  {
   "cell_type": "code",
   "execution_count": 4,
   "id": "5b2e12e1",
   "metadata": {},
   "outputs": [
    {
     "name": "stdout",
     "output_type": "stream",
     "text": [
      "Before:\n",
      "[[ 1  2  3  4]\n",
      " [ 5  6  7  8]\n",
      " [ 9 10 11 12]\n",
      " [13 14 15 16]]\n",
      "\n",
      "[ 1  6 11 16]\n",
      "After: \n",
      "[[ 0  2  3  4]\n",
      " [ 5  0  7  8]\n",
      " [ 9 10  0 12]\n",
      " [13 14 15  0]]\n"
     ]
    }
   ],
   "source": [
    "arr2 = np.arange(1,17).reshape(4,4)\n",
    "print(f\"Before:\\n{arr2}\")\n",
    "print()\n",
    "print(np.diagonal(arr2,0))\n",
    "np.fill_diagonal(arr2, 0)\n",
    "print(f\"After: \\n{arr2}\")"
   ]
  },
  {
   "cell_type": "markdown",
   "metadata": {},
   "source": [
    "### Assignment 2: Array Indexing and Slicing\n",
    "\n",
    "1. Create a NumPy array of shape (6, 6) with values from 1 to 36. Extract the sub-array consisting of the 3rd to 5th rows and 2nd to 4th columns."
   ]
  },
  {
   "cell_type": "markdown",
   "metadata": {},
   "source": [
    "2. Create a NumPy array of shape (5, 5) with random integers. Extract the elements on the border."
   ]
  },
  {
   "cell_type": "code",
   "execution_count": 5,
   "id": "582c3924",
   "metadata": {},
   "outputs": [
    {
     "name": "stdout",
     "output_type": "stream",
     "text": [
      "[[ 1  2  3  4  5  6]\n",
      " [ 7  8  9 10 11 12]\n",
      " [13 14 15 16 17 18]\n",
      " [19 20 21 22 23 24]\n",
      " [25 26 27 28 29 30]\n",
      " [31 32 33 34 35 36]]\n",
      "[[14 15 16]\n",
      " [20 21 22]\n",
      " [26 27 28]]\n"
     ]
    }
   ],
   "source": [
    "arr = np.arange(1,37).reshape(6,6)\n",
    "print(arr)\n",
    "sub_arr = arr[2:5,1:4]\n",
    "print(sub_arr)"
   ]
  },
  {
   "cell_type": "code",
   "execution_count": 6,
   "id": "d7373b3b",
   "metadata": {},
   "outputs": [
    {
     "name": "stdout",
     "output_type": "stream",
     "text": [
      "[[19 14 15  3  2]\n",
      " [ 6  8  5 19  3]\n",
      " [ 2 16  9  1 19]\n",
      " [ 9  2 13 12 20]\n",
      " [16  5  4 14  1]]\n",
      "[19  6  2  9 16  2  3 19 20  1 19 14 15  3  2 16  5  4 14  1]\n"
     ]
    }
   ],
   "source": [
    "arr = np.random.randint(1,21,size=(5,5))\n",
    "print(arr)\n",
    "border_arr = np.concatenate((arr[:,0], arr[:,-1], arr[0,:], arr[-1,:]))\n",
    "print(border_arr)"
   ]
  },
  {
   "cell_type": "markdown",
   "metadata": {},
   "source": [
    "### Assignment 3: Array Operations\n",
    "\n",
    "1. Create two NumPy arrays of shape (3, 4) filled with random integers. Perform element-wise addition, subtraction, multiplication, and division."
   ]
  },
  {
   "cell_type": "markdown",
   "metadata": {},
   "source": [
    "2. Create a NumPy array of shape (4, 4) with values from 1 to 16. Compute the row-wise and column-wise sum."
   ]
  },
  {
   "cell_type": "code",
   "execution_count": 7,
   "id": "271cfc98",
   "metadata": {},
   "outputs": [
    {
     "name": "stdout",
     "output_type": "stream",
     "text": [
      "[[ 9  1 11 11]\n",
      " [ 5 10  7 12]\n",
      " [11  8  9  6]]\n",
      "[[ 8  9  3 10]\n",
      " [ 1  1  1  3]\n",
      " [ 1  6  6  7]]\n",
      "Addition: [[17 10 14 21]\n",
      " [ 6 11  8 15]\n",
      " [12 14 15 13]]\n",
      "Subtraction: [[ 1 -8  8  1]\n",
      " [ 4  9  6  9]\n",
      " [10  2  3 -1]]\n",
      "Multiplication: [[ 72   9  33 110]\n",
      " [  5  10   7  36]\n",
      " [ 11  48  54  42]]\n",
      "Division: [[ 1.125       0.11111111  3.66666667  1.1       ]\n",
      " [ 5.         10.          7.          4.        ]\n",
      " [11.          1.33333333  1.5         0.85714286]]\n"
     ]
    }
   ],
   "source": [
    "arr1 = np.random.randint(1,13,size=(3,4))\n",
    "print(arr1)\n",
    "arr2 = np.random.randint(1,13,size=(3,4))\n",
    "print(arr2)\n",
    "print(f\"Addition: {arr1+arr2}\")\n",
    "print(f\"Subtraction: {arr1-arr2}\")\n",
    "print(f\"Multiplication: {arr1*arr2}\")\n",
    "print(f\"Division: {arr1/arr2}\")"
   ]
  },
  {
   "cell_type": "code",
   "execution_count": 8,
   "id": "fdc72f7e",
   "metadata": {},
   "outputs": [
    {
     "name": "stdout",
     "output_type": "stream",
     "text": [
      "[[ 1  2  3  4]\n",
      " [ 5  6  7  8]\n",
      " [ 9 10 11 12]\n",
      " [13 14 15 16]]\n",
      "[28 32 36 40]\n",
      "[10 26 42 58]\n",
      "[28 32 36 40]\n",
      "[10 26 42 58]\n"
     ]
    }
   ],
   "source": [
    "arr = np.arange(1,17).reshape(4,4)\n",
    "print(arr)\n",
    "print(arr.sum(axis=0))\n",
    "print(arr.sum(axis=1))\n",
    "print(np.sum(arr, axis=0))\n",
    "print(np.sum(arr,axis=1))"
   ]
  },
  {
   "cell_type": "markdown",
   "metadata": {},
   "source": [
    "### Assignment 4: Statistical Operations\n",
    "\n",
    "1. Create a NumPy array of shape (5, 5) filled with random integers. Compute the mean, median, standard deviation, and variance of the array."
   ]
  },
  {
   "cell_type": "markdown",
   "metadata": {},
   "source": [
    "2. Create a NumPy array of shape (3, 3) with values from 1 to 9. Normalize the array (i.e., scale the values to have a mean of 0 and a standard deviation of 1)."
   ]
  },
  {
   "cell_type": "code",
   "execution_count": 9,
   "id": "4f8ada5b",
   "metadata": {},
   "outputs": [
    {
     "name": "stdout",
     "output_type": "stream",
     "text": [
      "[[ 6  6  9  4  5]\n",
      " [ 5  4  7  4  9]\n",
      " [ 6  2  2  1  3]\n",
      " [ 8  9  9  5  9]\n",
      " [ 8 10  4  2  3]]\n",
      "Mean: 5.6\n",
      "Mean: 5.6\n",
      "Median: 5.0\n",
      "STD: 2.6532998322843198\n",
      "STD: 2.6532998322843198\n",
      "Variance: 7.039999999999999\n",
      "Variance: 7.039999999999999\n"
     ]
    }
   ],
   "source": [
    "arr = np.random.randint(1,11, size=(5,5))\n",
    "print(arr)\n",
    "print(f\"Mean: {arr.mean()}\")\n",
    "print(f\"Mean: {np.mean(arr)}\")\n",
    "print(f\"Median: {np.median(arr)}\")\n",
    "print(f\"STD: {arr.std()}\")\n",
    "print(f\"STD: {np.std(arr)}\")\n",
    "print(f\"Variance: {arr.var()}\")\n",
    "print(f\"Variance: {np.var(arr)}\")"
   ]
  },
  {
   "cell_type": "code",
   "execution_count": 10,
   "id": "f5efa4cb",
   "metadata": {},
   "outputs": [
    {
     "name": "stdout",
     "output_type": "stream",
     "text": [
      "[[1 2 3]\n",
      " [4 5 6]\n",
      " [7 8 9]]\n",
      "Normalization:\n",
      " [[-1.54919334 -1.161895   -0.77459667]\n",
      " [-0.38729833  0.          0.38729833]\n",
      " [ 0.77459667  1.161895    1.54919334]]\n"
     ]
    }
   ],
   "source": [
    "arr = np.arange(1,10).reshape(3,3)\n",
    "print(arr)\n",
    "mean = np.mean(arr)\n",
    "std = np.std(arr)\n",
    "print(f\"Normalization:\\n {(arr-mean)/std}\")"
   ]
  },
  {
   "cell_type": "markdown",
   "metadata": {},
   "source": [
    "### Assignment 5: Broadcasting\n",
    "\n",
    "1. Create a NumPy array of shape (3, 3) filled with random integers. Add a 1D array of shape (3,) to each row of the 2D array using broadcasting."
   ]
  },
  {
   "cell_type": "markdown",
   "metadata": {},
   "source": [
    "2. Create a NumPy array of shape (4, 4) filled with random integers. Subtract a 1D array of shape (4,) from each column of the 2D array using broadcasting."
   ]
  },
  {
   "cell_type": "code",
   "execution_count": 11,
   "id": "d10f5c6f",
   "metadata": {},
   "outputs": [
    {
     "name": "stdout",
     "output_type": "stream",
     "text": [
      "Before: \n",
      "[[6 9 6]\n",
      " [6 8 1]\n",
      " [9 6 8]]\n",
      "[2 2 2]\n",
      "After: \n",
      "[[ 8 11  8]\n",
      " [ 8 10  3]\n",
      " [11  8 10]]\n"
     ]
    }
   ],
   "source": [
    "arr = np.random.randint(1,10, size=(3,3))\n",
    "print(f\"Before: \\n{arr}\")\n",
    "arr1 = np.random.randint(1,4, size=(3,))\n",
    "print(f\"{arr1}\")\n",
    "\n",
    "new = arr + arr1\n",
    "\n",
    "print(f\"After: \\n{new}\")\n"
   ]
  },
  {
   "cell_type": "code",
   "execution_count": 12,
   "id": "aecf2419",
   "metadata": {},
   "outputs": [
    {
     "name": "stdout",
     "output_type": "stream",
     "text": [
      "Before: \n",
      "[[2 2 7 8]\n",
      " [5 7 9 9]\n",
      " [9 7 2 5]\n",
      " [9 3 1 3]]\n",
      "[1 1 1 1]\n",
      "After: \n",
      "[[1 1 6 7]\n",
      " [4 6 8 8]\n",
      " [8 6 1 4]\n",
      " [8 2 0 2]]\n"
     ]
    }
   ],
   "source": [
    "arr = np.random.randint(1, 10, size=(4, 4))\n",
    "print(f\"Before: \\n{arr}\")\n",
    "arr1 = np.random.randint(1, 4, size=(4,))\n",
    "print(f\"{arr1}\")\n",
    "\n",
    "new = arr - arr1\n",
    "\n",
    "print(f\"After: \\n{new}\")"
   ]
  },
  {
   "cell_type": "markdown",
   "metadata": {},
   "source": [
    "### Assignment 6: Linear Algebra\n",
    "\n",
    "1. Create a NumPy array of shape (3, 3) representing a matrix. Compute its determinant, inverse, and eigenvalues."
   ]
  },
  {
   "cell_type": "markdown",
   "metadata": {},
   "source": [
    "2. Create two NumPy arrays of shape (2, 3) and (3, 2). Perform matrix multiplication on these arrays."
   ]
  },
  {
   "cell_type": "code",
   "execution_count": 13,
   "id": "5e9ae9c9",
   "metadata": {},
   "outputs": [
    {
     "name": "stdout",
     "output_type": "stream",
     "text": [
      "Array:\n",
      "[[ 1  2  1]\n",
      " [ 8  3  4]\n",
      " [ 7 10  8]]\n",
      "Determinanat: \n",
      "-28.99999999999999\n",
      "Inverse: \n",
      "[[ 0.55172414  0.20689655 -0.17241379]\n",
      " [ 1.24137931 -0.03448276 -0.13793103]\n",
      " [-2.03448276 -0.13793103  0.44827586]]\n",
      "Eigen: \n",
      "EigResult(eigenvalues=array([13.86822014,  0.78742225, -2.65564238]), eigenvectors=array([[-0.13605275, -0.32064265,  0.27781328],\n",
      "       [-0.42884009, -0.39611681, -0.78479398],\n",
      "       [-0.89307661,  0.86039512,  0.55400197]]))\n",
      "Eigen Values: \n",
      "[13.86822014  0.78742225 -2.65564238]\n"
     ]
    }
   ],
   "source": [
    "arr = np.random.randint(1,11,size=(3,3))\n",
    "print(f\"Array:\\n{arr}\")\n",
    "det = np.linalg.det(arr)\n",
    "inv = np.linalg.inv(arr)\n",
    "eg = np.linalg.eig(arr)\n",
    "egv = np.linalg.eigvals(arr)\n",
    "\n",
    "print(f\"Determinanat: \\n{det}\")\n",
    "print(f\"Inverse: \\n{inv}\")\n",
    "print(f\"Eigen: \\n{eg}\")\n",
    "print(f\"Eigen Values: \\n{egv}\")"
   ]
  },
  {
   "cell_type": "code",
   "execution_count": 14,
   "id": "fdaf1484",
   "metadata": {},
   "outputs": [
    {
     "name": "stdout",
     "output_type": "stream",
     "text": [
      "[[3 3 3]\n",
      " [2 2 2]]\n",
      "[[2 2]\n",
      " [2 3]\n",
      " [2 1]]\n",
      "[[18 18]\n",
      " [12 12]]\n",
      "[[18 18]\n",
      " [12 12]]\n"
     ]
    }
   ],
   "source": [
    "arr1 = np.random.randint(1,4, size=(2,3))\n",
    "print(arr1)\n",
    "arr2 = np.random.randint(1, 4, size=(3,2))\n",
    "print(arr2)\n",
    "\n",
    "mul = np.linalg.matmul(arr1,arr2)\n",
    "print(mul)\n",
    "\n",
    "mul2 = np.dot(arr1, arr2)\n",
    "print(mul2)\n"
   ]
  },
  {
   "cell_type": "markdown",
   "metadata": {},
   "source": [
    "### Assignment 7: Advanced Array Manipulation\n",
    "\n",
    "1. Create a NumPy array of shape (3, 3) with values from 1 to 9. Reshape the array to shape (1, 9) and then to shape (9, 1)."
   ]
  },
  {
   "cell_type": "markdown",
   "metadata": {},
   "source": [
    "2. Create a NumPy array of shape (5, 5) filled with random integers. Flatten the array and then reshape it back to (5, 5)."
   ]
  },
  {
   "cell_type": "code",
   "execution_count": 15,
   "id": "b90798ff",
   "metadata": {},
   "outputs": [
    {
     "name": "stdout",
     "output_type": "stream",
     "text": [
      "[[1 2 3]\n",
      " [4 5 6]\n",
      " [7 8 9]]\n",
      "[[1 2 3 4 5 6 7 8 9]]\n",
      "[[1]\n",
      " [2]\n",
      " [3]\n",
      " [4]\n",
      " [5]\n",
      " [6]\n",
      " [7]\n",
      " [8]\n",
      " [9]]\n"
     ]
    }
   ],
   "source": [
    "arr = np.arange(1,10).reshape(3,3)\n",
    "print(arr)\n",
    "arr1 = arr.reshape(1,9)\n",
    "print(arr1)\n",
    "arr2 = arr1.reshape(9,1)\n",
    "print(arr2)"
   ]
  },
  {
   "cell_type": "code",
   "execution_count": 16,
   "id": "0c520453",
   "metadata": {},
   "outputs": [
    {
     "name": "stdout",
     "output_type": "stream",
     "text": [
      "[[3 3 6 5 2]\n",
      " [4 1 5 6 2]\n",
      " [7 8 6 5 2]\n",
      " [5 1 1 4 7]\n",
      " [3 5 8 9 3]]\n",
      "[3 3 6 5 2 4 1 5 6 2 7 8 6 5 2 5 1 1 4 7 3 5 8 9 3]\n",
      "[[3 3 6 5 2]\n",
      " [4 1 5 6 2]\n",
      " [7 8 6 5 2]\n",
      " [5 1 1 4 7]\n",
      " [3 5 8 9 3]]\n"
     ]
    }
   ],
   "source": [
    "arr = np.random.randint(1,10, size=(5,5))\n",
    "print(arr)\n",
    "arr1 = arr.flatten()\n",
    "print(arr1)\n",
    "arr2 = arr1.reshape(5,5)\n",
    "print(arr2)"
   ]
  },
  {
   "cell_type": "markdown",
   "metadata": {},
   "source": [
    "### Assignment 8: Fancy Indexing and Boolean Indexing\n",
    "\n",
    "1. Create a NumPy array of shape (5, 5) filled with random integers. Use fancy indexing to extract the elements at the corners of the array."
   ]
  },
  {
   "cell_type": "markdown",
   "metadata": {},
   "source": [
    "2. Create a NumPy array of shape (4, 4) filled with random integers. Use boolean indexing to set all elements greater than 10 to 10."
   ]
  },
  {
   "cell_type": "code",
   "execution_count": 17,
   "id": "51860c7b",
   "metadata": {},
   "outputs": [
    {
     "name": "stdout",
     "output_type": "stream",
     "text": [
      "[[11  3 17 16  5]\n",
      " [ 2 14 19  5  1]\n",
      " [11 13 12 14  7]\n",
      " [13 12 19  9  1]\n",
      " [18  3 19 15 14]]\n",
      "[11  5 18 14]\n",
      "[11  5  2  1]\n"
     ]
    }
   ],
   "source": [
    "arr = np.random.randint(1,20, size=(5,5))\n",
    "print(arr)\n",
    "corner = np.concatenate((arr[0:1, 0], arr[0:1,-1], arr[-1:, 0], arr[-1:,-1]))\n",
    "corner2 = arr[[0,0,1,1],[0,-1,0,-1]] # ai pair hisebe kaj kore. aikhane pair hobe-->(0,0), (0,-1), (1,0), (1,-1)\n",
    "print(corner)\n",
    "print(corner2)"
   ]
  },
  {
   "cell_type": "code",
   "execution_count": 18,
   "id": "a51940bf",
   "metadata": {},
   "outputs": [
    {
     "name": "stdout",
     "output_type": "stream",
     "text": [
      "[[18  4  2  9]\n",
      " [11  5  5 18]\n",
      " [ 1  1  2  4]\n",
      " [ 3 15  3 14]]\n",
      "[[10  4  2  9]\n",
      " [10  5  5 10]\n",
      " [ 1  1  2  4]\n",
      " [ 3 10  3 10]]\n"
     ]
    }
   ],
   "source": [
    "arr = np.random.randint(1, 20, size=(4, 4))\n",
    "print(arr)\n",
    "arr[arr>10] = 10\n",
    "print(arr)"
   ]
  },
  {
   "cell_type": "markdown",
   "metadata": {},
   "source": [
    "### Assignment 9: Structured Arrays\n",
    "\n",
    "1. Create a structured array with fields 'name' (string), 'age' (integer), and 'weight' (float). Add some data and sort the array by age."
   ]
  },
  {
   "cell_type": "markdown",
   "metadata": {},
   "source": [
    "2. Create a structured array with fields 'x' and 'y' (both integers). Add some data and compute the Euclidean distance between each pair of points."
   ]
  },
  {
   "cell_type": "code",
   "execution_count": 29,
   "id": "6bb5465d",
   "metadata": {},
   "outputs": [
    {
     "name": "stdout",
     "output_type": "stream",
     "text": [
      "[('Samin', 25, 57.5) ('Tanzil', 46, 56. ) ('Masud', 28, 65. )]\n",
      "[('Samin', 25, 57.5) ('Masud', 28, 65. ) ('Tanzil', 46, 56. )]\n"
     ]
    }
   ],
   "source": [
    "data_type = [(\"name\",\"U10\"), (\"age\", \"i4\"), (\"weight\", \"f4\")]\n",
    "data = np.array([(\"Samin\", 25, 57.5), (\"Tanzil\", 46, 56), (\"Masud\", 28, 65)], dtype=data_type)\n",
    "print(data)\n",
    "sorted_data = np.sort(data, order=\"age\")\n",
    "print(sorted_data)"
   ]
  },
  {
   "cell_type": "code",
   "execution_count": 45,
   "id": "69f4f33a",
   "metadata": {},
   "outputs": [
    {
     "name": "stdout",
     "output_type": "stream",
     "text": [
      "[(1, 2) (3, 4) (5, 6)]\n",
      "[[0.         2.82842712 5.65685425]\n",
      " [2.82842712 0.         2.82842712]\n",
      " [5.65685425 2.82842712 0.        ]]\n"
     ]
    }
   ],
   "source": [
    "data_type = [(\"x\", \"i4\"), (\"y\", \"i4\")]\n",
    "data = np.array([(1,2), (3,4), (5,6)], dtype=data_type)\n",
    "print(data)\n",
    "dis = np.sqrt((data[\"x\"][:,np.newaxis]-data[\"x\"])**2 + (data[\"y\"][:,np.newaxis]-data[\"y\"])**2)\n",
    "print(dis)"
   ]
  },
  {
   "cell_type": "markdown",
   "metadata": {},
   "source": [
    "### Assignment 10: Masked Arrays\n",
    "\n",
    "1. Create a masked array of shape (4, 4) with random integers and mask the elements greater than 10. Compute the sum of the unmasked elements."
   ]
  },
  {
   "cell_type": "markdown",
   "metadata": {},
   "source": [
    "2. Create a masked array of shape (3, 3) with random integers and mask the diagonal elements. Replace the masked elements with the mean of the unmasked elements."
   ]
  },
  {
   "cell_type": "code",
   "execution_count": 50,
   "id": "c54110a5",
   "metadata": {},
   "outputs": [
    {
     "name": "stdout",
     "output_type": "stream",
     "text": [
      "[[14 12 17 14]\n",
      " [ 8 13 14 17]\n",
      " [ 7 16  6  2]\n",
      " [15 15  8 16]]\n",
      "[[-- -- -- --]\n",
      " [8 -- -- --]\n",
      " [7 -- 6 2]\n",
      " [-- -- 8 --]]\n",
      "31\n"
     ]
    }
   ],
   "source": [
    "import numpy.ma as ma\n",
    "arr_or = np.random.randint(1,21,size=(4,4))\n",
    "print(arr_or)\n",
    "arr_ma = ma.masked_greater(arr_or, 10)\n",
    "print(arr_ma)\n",
    "sum_unmasked = arr_ma.sum()\n",
    "print(sum_unmasked)"
   ]
  },
  {
   "cell_type": "code",
   "execution_count": 67,
   "id": "0046e7b1",
   "metadata": {},
   "outputs": [
    {
     "name": "stdout",
     "output_type": "stream",
     "text": [
      "[[ 9  3  5]\n",
      " [ 6 12 12]\n",
      " [20  9  5]]\n",
      "[[9 3 5]\n",
      " [6 -- --]\n",
      " [-- 9 5]]\n",
      "[[-- 3 5]\n",
      " [6 -- 12]\n",
      " [20 9 --]]\n",
      "9.166666666666666\n",
      "[[ 9  3  5]\n",
      " [ 6  9 12]\n",
      " [20  9  9]]\n"
     ]
    }
   ],
   "source": [
    "arr = np.random.randint(1,21,size=(3,3))\n",
    "print(arr)\n",
    "\n",
    "x = ma.masked_array(arr,mask=arr>=10)\n",
    "print(x)\n",
    "mas = ma.masked_array(arr,mask=np.eye(3,dtype=bool))\n",
    "print(mas)\n",
    "mean = np.mean(mas)\n",
    "print(mean)\n",
    "fill = mas.filled(mean)\n",
    "print(fill)"
   ]
  }
 ],
 "metadata": {
  "kernelspec": {
   "display_name": "Python 3",
   "language": "python",
   "name": "python3"
  },
  "language_info": {
   "codemirror_mode": {
    "name": "ipython",
    "version": 3
   },
   "file_extension": ".py",
   "mimetype": "text/x-python",
   "name": "python",
   "nbconvert_exporter": "python",
   "pygments_lexer": "ipython3",
   "version": "3.13.0"
  }
 },
 "nbformat": 4,
 "nbformat_minor": 5
}
